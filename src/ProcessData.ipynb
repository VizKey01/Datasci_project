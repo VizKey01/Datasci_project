{
 "cells": [
  {
   "cell_type": "code",
   "execution_count": 4,
   "metadata": {},
   "outputs": [
    {
     "name": "stdout",
     "output_type": "stream",
     "text": [
      "<class 'pandas.core.frame.DataFrame'>\n",
      "RangeIndex: 4921 entries, 0 to 4920\n",
      "Data columns (total 6 columns):\n",
      " #   Column       Non-Null Count  Dtype  \n",
      "---  ------       --------------  -----  \n",
      " 0   title        4921 non-null   object \n",
      " 1   affiliation  4921 non-null   object \n",
      " 2   year         4921 non-null   int64  \n",
      " 3   abstract     4919 non-null   object \n",
      " 4   latitude     4921 non-null   float64\n",
      " 5   longitude    4921 non-null   float64\n",
      "dtypes: float64(2), int64(1), object(3)\n",
      "memory usage: 230.8+ KB\n"
     ]
    },
    {
     "data": {
      "text/plain": [
       "(                                               title  \\\n",
       " 0  The impact of the establishment of carbon emis...   \n",
       " 1  China's total carbon emissions and carbon peak...   \n",
       " 2  Carbon Sinks and Carbon Emissions Discrepancie...   \n",
       " 3  Enablers, Challenges, and Carbon Emissions of ...   \n",
       " 4  The impact of environmental regulations on car...   \n",
       " \n",
       "                                          affiliation  year  \\\n",
       " 0                                   Jinan University  2022   \n",
       " 1        Suzhou University of Science and Technology  2023   \n",
       " 2                                Tsinghua University  2024   \n",
       " 3                               Chongqing University  2023   \n",
       " 4  Kraków University of Economics: Uniwersytet Ek...  2024   \n",
       " \n",
       "                                             abstract   latitude   longitude  \n",
       " 0  The China government focuses on changes in car...  22.251825  113.529126  \n",
       " 1  Background To cope with the problem of global ...  31.251764  120.572397  \n",
       " 2  Assessing discrepancies between carbon sinks a...  40.002290  116.320963  \n",
       " 3  The construction industry in China has embrace...  29.569987  106.459622  \n",
       " 4  The study analyses the impact of environmental...  50.068530   19.955502  ,\n",
       " None)"
      ]
     },
     "execution_count": 4,
     "metadata": {},
     "output_type": "execute_result"
    }
   ],
   "source": [
    "import pandas as pd\n",
    "\n",
    "# Load the provided CSV file to analyze its structure\n",
    "file_path = 'resources/Final.csv'\n",
    "data = pd.read_csv(file_path)\n",
    "\n",
    "# Display the first few rows of the data to understand its structure\n",
    "data.head(), data.info()\n"
   ]
  },
  {
   "cell_type": "code",
   "execution_count": 8,
   "metadata": {},
   "outputs": [],
   "source": [
    "import string\n",
    "from langdetect import detect\n",
    "from langdetect.lang_detect_exception import LangDetectException\n",
    "\n",
    "# Define basic stop words\n",
    "basic_stopwords = set([\n",
    "    \"a\", \"about\", \"above\", \"after\", \"again\", \"against\", \"all\", \"am\", \"an\", \"and\", \"any\", \"are\", \"aren't\", \"as\", \n",
    "    \"at\", \"be\", \"because\", \"been\", \"before\", \"being\", \"below\", \"between\", \"both\", \"but\", \"by\", \"can\", \"can't\", \n",
    "    \"come\", \"could\", \"couldn't\", \"did\", \"didn't\", \"do\", \"does\", \"doesn't\", \"doing\", \"don't\", \"down\", \"during\", \n",
    "    \"each\", \"few\", \"for\", \"from\", \"further\", \"had\", \"hadn't\", \"has\", \"hasn't\", \"have\", \"haven't\", \"having\", \n",
    "    \"he\", \"he'd\", \"he'll\", \"he's\", \"her\", \"here\", \"here's\", \"hers\", \"herself\", \"him\", \"himself\", \"his\", \"how\", \n",
    "    \"how's\", \"i\", \"i'd\", \"i'll\", \"i'm\", \"i've\", \"if\", \"in\", \"into\", \"is\", \"isn't\", \"it\", \"it's\", \"its\", \"itself\", \n",
    "    \"let's\", \"me\", \"more\", \"most\", \"mustn't\", \"my\", \"myself\", \"no\", \"nor\", \"not\", \"of\", \"off\", \"on\", \"once\", \n",
    "    \"only\", \"or\", \"other\", \"ought\", \"our\", \"ours\", \"ourselves\", \"out\", \"over\", \"own\", \"same\", \"shan't\", \"she\", \n",
    "    \"she'd\", \"she'll\", \"she's\", \"should\", \"shouldn't\", \"so\", \"some\", \"such\", \"than\", \"that\", \"that's\", \"the\", \n",
    "    \"their\", \"theirs\", \"them\", \"themselves\", \"then\", \"there\", \"there's\", \"these\", \"they\", \"they'd\", \"they'll\", \n",
    "    \"they're\", \"they've\", \"this\", \"those\", \"through\", \"to\", \"too\", \"under\", \"until\", \"up\", \"very\", \"was\", \"wasn't\", \n",
    "    \"we\", \"we'd\", \"we'll\", \"we're\", \"we've\", \"were\", \"weren't\", \"what\", \"what's\", \"when\", \"when's\", \"where\", \n",
    "    \"where's\", \"which\", \"while\", \"who\", \"who's\", \"whom\", \"why\", \"why's\", \"with\", \"won't\", \"would\", \"wouldn't\", \n",
    "    \"you\", \"you'd\", \"you'll\", \"you're\", \"you've\", \"your\", \"yours\", \"yourself\", \"yourselves\",\"copyright\",\"©\" ,\"±\",\n",
    "     \"c\",\"n\", \"p\"\n",
    "])\n",
    "\n",
    "# Function to detect language\n",
    "def is_english(text):\n",
    "    try:\n",
    "        return detect(text) == 'en'\n",
    "    except LangDetectException:\n",
    "        return False\n",
    "\n",
    "# Updated preprocessing function\n",
    "def preprocess_text_basic(text):\n",
    "    # Detect language first\n",
    "    if not is_english(text):\n",
    "        return ''  # Return an empty string for non-English text\n",
    "    # Lowercase text\n",
    "    text = text.lower()\n",
    "    # Remove punctuation\n",
    "    text = text.translate(str.maketrans('', '', string.punctuation))\n",
    "    # Tokenize words\n",
    "    words = text.split()\n",
    "    # Remove stop words\n",
    "    words = [word for word in words if word not in basic_stopwords]\n",
    "    return ' '.join(words)\n",
    "\n",
    "# Apply preprocessing to the abstracts column\n",
    "data['Processed_Abstracts'] = data['abstract'].apply(lambda x: preprocess_text_basic(str(x)))\n",
    "\n",
    "# Display processed data\n",
    "# data[['abstract', 'Processed_Abstracts']].head()\n"
   ]
  },
  {
   "cell_type": "code",
   "execution_count": 9,
   "metadata": {},
   "outputs": [
    {
     "name": "stdout",
     "output_type": "stream",
     "text": [
      "Data saved to 'final_processdata.csv'. Fetched 4921 results.\n"
     ]
    }
   ],
   "source": [
    "df = pd.DataFrame(data[['affiliation' , 'Processed_Abstracts']])\n",
    "# Save to CSV\n",
    "if not df.empty:\n",
    "    df.to_csv('resources/final_processdata.csv', index=False, encoding='utf-8')\n",
    "    print(f\"Data saved to 'final_processdata.csv'. Fetched {len(df)} results.\")\n",
    "else:\n",
    "    print(\"No data fetched. Check the scraping process.\")\n"
   ]
  }
 ],
 "metadata": {
  "kernelspec": {
   "display_name": "Python 3",
   "language": "python",
   "name": "python3"
  },
  "language_info": {
   "codemirror_mode": {
    "name": "ipython",
    "version": 3
   },
   "file_extension": ".py",
   "mimetype": "text/x-python",
   "name": "python",
   "nbconvert_exporter": "python",
   "pygments_lexer": "ipython3",
   "version": "3.10.7"
  }
 },
 "nbformat": 4,
 "nbformat_minor": 2
}
