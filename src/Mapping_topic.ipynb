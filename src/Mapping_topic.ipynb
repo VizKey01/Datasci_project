{
 "cells": [
  {
   "cell_type": "code",
   "execution_count": null,
   "metadata": {},
   "outputs": [],
   "source": [
    "import pandas as pd\n",
    "\n",
    "# load proccess file\n",
    "data = pd.read_csv('../resources/cleaned_processdata.csv')\n",
    "data['Processed_Abstracts'] = data['Processed_Abstracts'].astype(str)\n",
    "\n",
    "# load original file\n",
    "data2 = pd.read_csv('../resources/cleaned_file.csv')\n",
    "data2['abstract'] = data2['abstract'].astype(str)\n",
    "\n",
    "# load topics set\n",
    "topics = pd.read_csv('../resources/cleaned_topicdata.csv', header=None).values.tolist()\n",
    "\n",
    "# remove header\n",
    "topics.pop(0)\n",
    "topics"
   ]
  },
  {
   "cell_type": "code",
   "execution_count": null,
   "metadata": {},
   "outputs": [],
   "source": [
    "\n",
    "# Assign topics based on word overlap\n",
    "def assign_topic(text, topics):\n",
    "    words = set(text.split())\n",
    "    topic_scores = [len(words & set(topic)) for topic in topics]\n",
    "    return topic_scores.index(max(topic_scores))  # Assign topic with max overlap\n",
    "\n",
    "\n",
    "# Assign topics\n",
    "data2['Assigned_Topic'] = data['Processed_Abstracts'].apply(lambda x: assign_topic(x, topics))\n",
    "data2['Assigned_Topic']\n"
   ]
  },
  {
   "cell_type": "code",
   "execution_count": null,
   "metadata": {},
   "outputs": [],
   "source": [
    "# load topic name\n",
    "topic_labels = pd.read_csv('../resources/topic_name.csv', header=None).values.tolist()\n",
    "topic_labels.pop(0)\n",
    "cleaned_topic_labels = [item[0] for item in topic_labels]\n",
    "cleaned_topic_labels\n",
    "\n",
    "# map name of topics to Assigned_Topic\n",
    "\n",
    "data2['Assigned_Topic'] = data2['Assigned_Topic'].map(lambda x: cleaned_topic_labels[x])\n",
    "data2['Assigned_Topic']"
   ]
  },
  {
   "cell_type": "code",
   "execution_count": null,
   "metadata": {},
   "outputs": [],
   "source": [
    "# Show results\n",
    "data2.head()"
   ]
  },
  {
   "cell_type": "markdown",
   "metadata": {},
   "source": [
    "Save Final data"
   ]
  },
  {
   "cell_type": "code",
   "execution_count": null,
   "metadata": {},
   "outputs": [],
   "source": [
    "# Save to CSV\n",
    "# data2['Assigned_Topic']\n",
    "\n",
    "df = pd.DataFrame(data2)\n",
    "\n",
    "# Save to CSV\n",
    "if not df.empty:\n",
    "    df.to_csv('../resources/final_topicdata.csv', index=False, encoding='utf-8')\n",
    "    print(f\"Data saved to 'final_topicdata.csv'. Fetched {len(df)} results.\")\n",
    "else:\n",
    "    print(\"No data fetched. Check the scraping process.\")"
   ]
  }
 ],
 "metadata": {
  "kernelspec": {
   "display_name": "Python 3",
   "language": "python",
   "name": "python3"
  },
  "language_info": {
   "name": "python",
   "version": "3.10.7"
  }
 },
 "nbformat": 4,
 "nbformat_minor": 2
}
