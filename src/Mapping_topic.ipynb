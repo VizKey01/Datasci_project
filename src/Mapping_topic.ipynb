{
 "cells": [
  {
   "cell_type": "code",
   "execution_count": 9,
   "metadata": {},
   "outputs": [
    {
     "data": {
      "text/plain": [
       "[['soil',\n",
       "  'carbon',\n",
       "  'emissions',\n",
       "  'organic',\n",
       "  'study',\n",
       "  'ch4',\n",
       "  'compared',\n",
       "  'respectively',\n",
       "  'total',\n",
       "  'forest'],\n",
       " ['carbon',\n",
       "  'adsorption',\n",
       "  'high',\n",
       "  'co2',\n",
       "  'using',\n",
       "  'materials',\n",
       "  'performance',\n",
       "  'activated',\n",
       "  'surface',\n",
       "  'energy'],\n",
       " ['electronic',\n",
       "  'carbon',\n",
       "  'structure',\n",
       "  'molecular',\n",
       "  'ndoped',\n",
       "  'bond',\n",
       "  'new',\n",
       "  'report',\n",
       "  'electrocatalytic',\n",
       "  'bonds'],\n",
       " ['fuel',\n",
       "  'combustion',\n",
       "  'emissions',\n",
       "  'hydrogen',\n",
       "  'gas',\n",
       "  'engine',\n",
       "  'nox',\n",
       "  'diesel',\n",
       "  'fuels',\n",
       "  'air'],\n",
       " ['model',\n",
       "  'carbon',\n",
       "  'flame',\n",
       "  'flow',\n",
       "  'using',\n",
       "  'data',\n",
       "  'results',\n",
       "  'models',\n",
       "  'dynamics',\n",
       "  'pressure'],\n",
       " ['carbon',\n",
       "  'emissions',\n",
       "  'energy',\n",
       "  'co2',\n",
       "  'emission',\n",
       "  'study',\n",
       "  'model',\n",
       "  'climate',\n",
       "  'development',\n",
       "  'data'],\n",
       " ['mangrove',\n",
       "  'protection',\n",
       "  'households',\n",
       "  'outputs',\n",
       "  'rural',\n",
       "  'cee',\n",
       "  'cfc',\n",
       "  'tl',\n",
       "  'skewed',\n",
       "  'pulmonary'],\n",
       " ['carbon',\n",
       "  'properties',\n",
       "  'using',\n",
       "  'results',\n",
       "  'used',\n",
       "  'study',\n",
       "  'surface',\n",
       "  'high',\n",
       "  'composite',\n",
       "  'fiber']]"
      ]
     },
     "execution_count": 9,
     "metadata": {},
     "output_type": "execute_result"
    }
   ],
   "source": [
    "import pandas as pd\n",
    "\n",
    "# load proccess file\n",
    "data = pd.read_csv('resources/final_processdata.csv')\n",
    "data['Processed_Abstracts'] = data['Processed_Abstracts'].astype(str)\n",
    "\n",
    "# load original file\n",
    "data2 = pd.read_csv('resources/Final.csv')\n",
    "data2['abstract'] = data2['abstract'].astype(str)\n",
    "\n",
    "# load topics set\n",
    "topics = pd.read_csv('resources/cleaned_topicdata.csv', header=None).values.tolist()\n",
    "\n",
    "# remove header\n",
    "topics.pop(0)\n",
    "topics"
   ]
  },
  {
   "cell_type": "code",
   "execution_count": 10,
   "metadata": {},
   "outputs": [
    {
     "data": {
      "text/plain": [
       "0       5\n",
       "1       5\n",
       "2       4\n",
       "3       5\n",
       "4       0\n",
       "       ..\n",
       "4916    7\n",
       "4917    7\n",
       "4918    5\n",
       "4919    4\n",
       "4920    7\n",
       "Name: assigned_Topic, Length: 4921, dtype: int64"
      ]
     },
     "execution_count": 10,
     "metadata": {},
     "output_type": "execute_result"
    }
   ],
   "source": [
    "\n",
    "# Assign topics based on word overlap\n",
    "def assign_topic(text, topics):\n",
    "    words = set(text.split())\n",
    "    topic_scores = [len(words & set(topic)) for topic in topics]\n",
    "    return topic_scores.index(max(topic_scores))  # Assign topic with max overlap\n",
    "\n",
    "\n",
    "# Assign topics\n",
    "data2['assigned_Topic'] = data['Processed_Abstracts'].apply(lambda x: assign_topic(x, topics))\n",
    "data2['assigned_Topic']\n"
   ]
  },
  {
   "cell_type": "code",
   "execution_count": 11,
   "metadata": {},
   "outputs": [
    {
     "data": {
      "text/plain": [
       "0       Climate Change and Energy Development: A Study...\n",
       "1       Climate Change and Energy Development: A Study...\n",
       "2       Modeling Carbon Flame Flow Dynamics and Pressu...\n",
       "3       Climate Change and Energy Development: A Study...\n",
       "4       Study of Soil Carbon Emissions and Organic CH4...\n",
       "                              ...                        \n",
       "4916    High-temperature properties of carbon fiber co...\n",
       "4917    High-temperature properties of carbon fiber co...\n",
       "4918    Climate Change and Energy Development: A Study...\n",
       "4919    Modeling Carbon Flame Flow Dynamics and Pressu...\n",
       "4920    High-temperature properties of carbon fiber co...\n",
       "Name: assigned_Topic, Length: 4921, dtype: object"
      ]
     },
     "execution_count": 11,
     "metadata": {},
     "output_type": "execute_result"
    }
   ],
   "source": [
    "# load topic name\n",
    "topic_labels = pd.read_csv('resources/topic_name.csv', header=None).values.tolist()\n",
    "topic_labels.pop(0)\n",
    "cleaned_topic_labels = [item[0] for item in topic_labels]\n",
    "cleaned_topic_labels\n",
    "\n",
    "# map name of topics to Assigned_Topic\n",
    "\n",
    "data2['assigned_Topic'] = data2['assigned_Topic'].map(lambda x: cleaned_topic_labels[x])\n",
    "data2['assigned_Topic']"
   ]
  },
  {
   "cell_type": "code",
   "execution_count": 12,
   "metadata": {},
   "outputs": [
    {
     "data": {
      "text/html": [
       "<div>\n",
       "<style scoped>\n",
       "    .dataframe tbody tr th:only-of-type {\n",
       "        vertical-align: middle;\n",
       "    }\n",
       "\n",
       "    .dataframe tbody tr th {\n",
       "        vertical-align: top;\n",
       "    }\n",
       "\n",
       "    .dataframe thead th {\n",
       "        text-align: right;\n",
       "    }\n",
       "</style>\n",
       "<table border=\"1\" class=\"dataframe\">\n",
       "  <thead>\n",
       "    <tr style=\"text-align: right;\">\n",
       "      <th></th>\n",
       "      <th>title</th>\n",
       "      <th>affiliation</th>\n",
       "      <th>year</th>\n",
       "      <th>abstract</th>\n",
       "      <th>latitude</th>\n",
       "      <th>longitude</th>\n",
       "      <th>assigned_Topic</th>\n",
       "    </tr>\n",
       "  </thead>\n",
       "  <tbody>\n",
       "    <tr>\n",
       "      <th>0</th>\n",
       "      <td>The impact of the establishment of carbon emis...</td>\n",
       "      <td>Jinan University</td>\n",
       "      <td>2022</td>\n",
       "      <td>The China government focuses on changes in car...</td>\n",
       "      <td>22.251825</td>\n",
       "      <td>113.529126</td>\n",
       "      <td>Climate Change and Energy Development: A Study...</td>\n",
       "    </tr>\n",
       "    <tr>\n",
       "      <th>1</th>\n",
       "      <td>China's total carbon emissions and carbon peak...</td>\n",
       "      <td>Suzhou University of Science and Technology</td>\n",
       "      <td>2023</td>\n",
       "      <td>Background To cope with the problem of global ...</td>\n",
       "      <td>31.251764</td>\n",
       "      <td>120.572397</td>\n",
       "      <td>Climate Change and Energy Development: A Study...</td>\n",
       "    </tr>\n",
       "    <tr>\n",
       "      <th>2</th>\n",
       "      <td>Carbon Sinks and Carbon Emissions Discrepancie...</td>\n",
       "      <td>Tsinghua University</td>\n",
       "      <td>2024</td>\n",
       "      <td>Assessing discrepancies between carbon sinks a...</td>\n",
       "      <td>40.002290</td>\n",
       "      <td>116.320963</td>\n",
       "      <td>Modeling Carbon Flame Flow Dynamics and Pressu...</td>\n",
       "    </tr>\n",
       "    <tr>\n",
       "      <th>3</th>\n",
       "      <td>Enablers, Challenges, and Carbon Emissions of ...</td>\n",
       "      <td>Chongqing University</td>\n",
       "      <td>2023</td>\n",
       "      <td>The construction industry in China has embrace...</td>\n",
       "      <td>29.569987</td>\n",
       "      <td>106.459622</td>\n",
       "      <td>Climate Change and Energy Development: A Study...</td>\n",
       "    </tr>\n",
       "    <tr>\n",
       "      <th>4</th>\n",
       "      <td>The impact of environmental regulations on car...</td>\n",
       "      <td>Kraków University of Economics: Uniwersytet Ek...</td>\n",
       "      <td>2024</td>\n",
       "      <td>The study analyses the impact of environmental...</td>\n",
       "      <td>50.068530</td>\n",
       "      <td>19.955502</td>\n",
       "      <td>Study of Soil Carbon Emissions and Organic CH4...</td>\n",
       "    </tr>\n",
       "  </tbody>\n",
       "</table>\n",
       "</div>"
      ],
      "text/plain": [
       "                                               title  \\\n",
       "0  The impact of the establishment of carbon emis...   \n",
       "1  China's total carbon emissions and carbon peak...   \n",
       "2  Carbon Sinks and Carbon Emissions Discrepancie...   \n",
       "3  Enablers, Challenges, and Carbon Emissions of ...   \n",
       "4  The impact of environmental regulations on car...   \n",
       "\n",
       "                                         affiliation  year  \\\n",
       "0                                   Jinan University  2022   \n",
       "1        Suzhou University of Science and Technology  2023   \n",
       "2                                Tsinghua University  2024   \n",
       "3                               Chongqing University  2023   \n",
       "4  Kraków University of Economics: Uniwersytet Ek...  2024   \n",
       "\n",
       "                                            abstract   latitude   longitude  \\\n",
       "0  The China government focuses on changes in car...  22.251825  113.529126   \n",
       "1  Background To cope with the problem of global ...  31.251764  120.572397   \n",
       "2  Assessing discrepancies between carbon sinks a...  40.002290  116.320963   \n",
       "3  The construction industry in China has embrace...  29.569987  106.459622   \n",
       "4  The study analyses the impact of environmental...  50.068530   19.955502   \n",
       "\n",
       "                                      assigned_Topic  \n",
       "0  Climate Change and Energy Development: A Study...  \n",
       "1  Climate Change and Energy Development: A Study...  \n",
       "2  Modeling Carbon Flame Flow Dynamics and Pressu...  \n",
       "3  Climate Change and Energy Development: A Study...  \n",
       "4  Study of Soil Carbon Emissions and Organic CH4...  "
      ]
     },
     "execution_count": 12,
     "metadata": {},
     "output_type": "execute_result"
    }
   ],
   "source": [
    "# Show results\n",
    "data2.head()"
   ]
  },
  {
   "cell_type": "markdown",
   "metadata": {},
   "source": [
    "Save Final data"
   ]
  },
  {
   "cell_type": "code",
   "execution_count": 13,
   "metadata": {},
   "outputs": [
    {
     "name": "stdout",
     "output_type": "stream",
     "text": [
      "Data saved to 'final_topicdata.csv'. Fetched 4921 results.\n"
     ]
    }
   ],
   "source": [
    "# Save to CSV\n",
    "# data2['Assigned_Topic']\n",
    "\n",
    "df = pd.DataFrame(data2)\n",
    "\n",
    "# Save to CSV\n",
    "if not df.empty:\n",
    "    df.to_csv('resources/final_topicdata.csv', index=False, encoding='utf-8')\n",
    "    print(f\"Data saved to 'final_topicdata.csv'. Fetched {len(df)} results.\")\n",
    "else:\n",
    "    print(\"No data fetched. Check the scraping process.\")"
   ]
  }
 ],
 "metadata": {
  "kernelspec": {
   "display_name": "Python 3",
   "language": "python",
   "name": "python3"
  },
  "language_info": {
   "codemirror_mode": {
    "name": "ipython",
    "version": 3
   },
   "file_extension": ".py",
   "mimetype": "text/x-python",
   "name": "python",
   "nbconvert_exporter": "python",
   "pygments_lexer": "ipython3",
   "version": "3.10.7"
  }
 },
 "nbformat": 4,
 "nbformat_minor": 2
}
