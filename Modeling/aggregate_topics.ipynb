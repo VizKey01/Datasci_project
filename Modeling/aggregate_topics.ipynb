{
 "cells": [
  {
   "cell_type": "code",
   "execution_count": null,
   "metadata": {},
   "outputs": [],
   "source": []
  },
  {
   "cell_type": "code",
   "execution_count": 6,
   "metadata": {},
   "outputs": [
    {
     "name": "stdout",
     "output_type": "stream",
     "text": [
      "Assigned_Topic  0  1  2  3  4  5\n",
      "Organizations                   \n",
      "Distirct 0      0  0  0  1  0  0\n",
      "Distirct 1      0  0  0  0  1  0\n",
      "Distirct 10     0  0  0  0  1  0\n",
      "Distirct 100    0  0  1  0  0  0\n",
      "Distirct 101    0  1  0  0  0  0\n",
      "...            .. .. .. .. .. ..\n",
      "Distirct 95     0  0  1  0  0  0\n",
      "Distirct 96     0  0  0  1  0  0\n",
      "Distirct 97     0  0  0  0  1  0\n",
      "Distirct 98     0  0  0  1  0  0\n",
      "Distirct 99     0  1  0  0  0  0\n",
      "\n",
      "[179 rows x 6 columns]\n",
      "Data saved to 'ass.csv'. Fetched 179 results.\n"
     ]
    }
   ],
   "source": [
    "import pandas as pd\n",
    "\n",
    "# Example data: Replace this with your actual data\n",
    "# data = pd.DataFrame({\n",
    "#     'Organizations': ['District A', 'District B', 'District A', 'District C', 'District B'],\n",
    "#     'Processed_Abstracts': [\n",
    "#         \"carbon emissions climate change thailand\",\n",
    "#         \"coastal impacts study environment change\",\n",
    "#         \"waste management study emissions\",\n",
    "#         \"energy production using carbon results\",\n",
    "#         \"future climate food risk water\"\n",
    "#     ]\n",
    "# })\n",
    "data = pd.read_csv('sciencedirect_carbon_emissions.csv')\n",
    "\n",
    "# topics = [\n",
    "#     ['energy', 'carbon', 'development', 'emissions', 'climate', 'emission', 'analysis', 'change', 'environment', 'thailand'],\n",
    "#     ['climate', 'change', 'research', 'coastal', 'human', 'carbon', 'study', 'thailand', 'environmental', 'impacts'],\n",
    "#     ['model', 'study', 'waste', 'change', 'climate', 'environmental', 'results', 'effect', 'carbon', 'management'],\n",
    "#     ['co2', 'carbon', 'energy', 'production', 'using', 'results', 'study', 'emissions', 'process', 'gas'],\n",
    "#     ['climate', 'energy', 'change', 'study', 'data', 'future', 'records', 'food', 'risk', 'water']\n",
    "# ]\n",
    "\n",
    "topics = pd.read_csv('topics.csv', header=None).values.tolist(\n",
    "    \n",
    ")\n",
    "\n",
    "# Assign topics based on word overlap\n",
    "def assign_topic(text, topics):\n",
    "    words = set(text.split())\n",
    "    topic_scores = [len(words & set(topic)) for topic in topics]\n",
    "    return topic_scores.index(max(topic_scores))  # Assign topic with max overlap\n",
    "\n",
    "data['Assigned_Topic'] = data['Processed_Abstracts'].apply(lambda x: assign_topic(x, topics))\n",
    "\n",
    "# Aggregate by district and topic\n",
    "aggregated_data = data.groupby(['Organizations', 'Assigned_Topic']).size().unstack(fill_value=0)\n",
    "\n",
    "print(aggregated_data)\n",
    "\n",
    "\n",
    "df = pd.DataFrame(aggregated_data)\n",
    "\n",
    "# Save to CSV\n",
    "if not df.empty:\n",
    "    df.to_csv('ass.csv', index=False, encoding='utf-8')\n",
    "    print(f\"Data saved to 'ass.csv'. Fetched {len(df)} results.\")\n",
    "else:\n",
    "    print(\"No data fetched. Check the scraping process.\")"
   ]
  }
 ],
 "metadata": {
  "kernelspec": {
   "display_name": "Python 3",
   "language": "python",
   "name": "python3"
  },
  "language_info": {
   "codemirror_mode": {
    "name": "ipython",
    "version": 3
   },
   "file_extension": ".py",
   "mimetype": "text/x-python",
   "name": "python",
   "nbconvert_exporter": "python",
   "pygments_lexer": "ipython3",
   "version": "3.10.7"
  }
 },
 "nbformat": 4,
 "nbformat_minor": 2
}
