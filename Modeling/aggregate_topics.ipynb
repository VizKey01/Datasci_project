{
 "cells": [
  {
   "cell_type": "code",
   "execution_count": 1,
   "metadata": {},
   "outputs": [
    {
     "data": {
      "text/plain": [
       "[['carbon',\n",
       "  'properties',\n",
       "  'composites',\n",
       "  'composite',\n",
       "  'mechanical',\n",
       "  'strength',\n",
       "  'surface',\n",
       "  'results',\n",
       "  'fiber',\n",
       "  'nanotubes'],\n",
       " ['model',\n",
       "  'using',\n",
       "  'data',\n",
       "  'results',\n",
       "  'models',\n",
       "  'used',\n",
       "  'co2',\n",
       "  'method',\n",
       "  'gas',\n",
       "  'study'],\n",
       " ['carbon',\n",
       "  'high',\n",
       "  'performance',\n",
       "  'reaction',\n",
       "  'activity',\n",
       "  'materials',\n",
       "  'capacity',\n",
       "  'surface',\n",
       "  'g−1',\n",
       "  'adsorption'],\n",
       " ['carbon',\n",
       "  'energy',\n",
       "  'electrochemical',\n",
       "  'co2',\n",
       "  'research',\n",
       "  'emissions',\n",
       "  'production',\n",
       "  'environmental',\n",
       "  'development',\n",
       "  'study'],\n",
       " ['carbon',\n",
       "  'development',\n",
       "  'emission',\n",
       "  'model',\n",
       "  'china',\n",
       "  'emissions',\n",
       "  'land',\n",
       "  'spatial',\n",
       "  'urban',\n",
       "  'lowcarbon'],\n",
       " ['facile',\n",
       "  'gpp',\n",
       "  'market',\n",
       "  'fabricate',\n",
       "  'environmental',\n",
       "  'trading',\n",
       "  'carbon',\n",
       "  'policy',\n",
       "  'price',\n",
       "  'green'],\n",
       " ['carbon',\n",
       "  'soil',\n",
       "  'c',\n",
       "  'soc',\n",
       "  'organic',\n",
       "  'forest',\n",
       "  'n',\n",
       "  'increased',\n",
       "  'study',\n",
       "  'climate'],\n",
       " ['patients',\n",
       "  'see',\n",
       "  'cells',\n",
       "  'treatment',\n",
       "  'magnetic',\n",
       "  'group',\n",
       "  'p',\n",
       "  'metabolism',\n",
       "  'cancer',\n",
       "  'study']]"
      ]
     },
     "execution_count": 1,
     "metadata": {},
     "output_type": "execute_result"
    }
   ],
   "source": [
    "import pandas as pd\n",
    "\n",
    "data = pd.read_csv('../resources/cleaned_processdata.csv')\n",
    "data['Processed_Abstracts'] = data['Processed_Abstracts'].astype(str)\n",
    "\n",
    "data2 = pd.read_csv('../resources/cleaned_file.csv')\n",
    "data2['abstract'] = data2['abstract'].astype(str)\n",
    "\n",
    "\n",
    "topics = pd.read_csv('../resources/cleaned_topicdata.csv', header=None).values.tolist(\n",
    "    \n",
    ")\n",
    "\n",
    "topics.pop(0)\n",
    "topics"
   ]
  },
  {
   "cell_type": "code",
   "execution_count": 2,
   "metadata": {},
   "outputs": [
    {
     "data": {
      "text/plain": [
       "0        1\n",
       "1        1\n",
       "2        3\n",
       "3        4\n",
       "4        4\n",
       "        ..\n",
       "71152    1\n",
       "71153    7\n",
       "71154    6\n",
       "71155    1\n",
       "71156    1\n",
       "Name: Assigned_Topic, Length: 71157, dtype: int64"
      ]
     },
     "execution_count": 2,
     "metadata": {},
     "output_type": "execute_result"
    }
   ],
   "source": [
    "\n",
    "# Assign topics based on word overlap\n",
    "def assign_topic(text, topics):\n",
    "    words = set(text.split())\n",
    "    topic_scores = [len(words & set(topic)) for topic in topics]\n",
    "    return topic_scores.index(max(topic_scores))  # Assign topic with max overlap\n",
    "\n",
    "\n",
    "# Assign topics\n",
    "data2['Assigned_Topic'] = data['Processed_Abstracts'].apply(lambda x: assign_topic(x, topics))\n",
    "data2['Assigned_Topic']\n",
    "\n",
    "# Aggregate by district and topic\n",
    "# aggregated_data = data.groupby(['Organizations', 'Assigned_Topic']).size().unstack(fill_value=0)\n",
    "# aggregated_data = data.groupby(['Assigned_Topic']).size().unstack(fill_value=0)\n",
    "\n",
    "# print(aggregated_data)\n"
   ]
  },
  {
   "cell_type": "markdown",
   "metadata": {},
   "source": [
    "Topic 0: \"High-performance carbon materials with high surface area and density for enhanced reaction capacity.\"\n",
    "Topic 1: \"Soil Carbon Sequestration in Forest Ecosystems.\"\n",
    "Topic 2: \"\"Proposed Model-Based System and Its Results\"\"\n",
    "Topic 3: \"\"Thermal and Mechanical Properties of Carbon Composites\"\"\n",
    "Topic 4: \"\"Electrochemical Carbon Dioxide Reduction for Sustainable Energy Production and Environmental Development\"\"\n",
    "Topic 5: \"Atmospheric Emissions of Greenhouse Gases\"\n",
    "Topic 6: \"\"Ocean Carbon Metabolism and Its Impact on Cell Growth and Treatment of Patients\"\"\n",
    "Topic 7: \"\"Low-Carbon Land Development Emission Study in China\"\""
   ]
  },
  {
   "cell_type": "code",
   "execution_count": 3,
   "metadata": {},
   "outputs": [
    {
     "data": {
      "text/plain": [
       "0          CO2 Gas Emission Study Using Data-Driven Models\n",
       "1          CO2 Gas Emission Study Using Data-Driven Models\n",
       "2        Electrochemical Carbon Dioxide Emissions Reduc...\n",
       "3        Low-Carbon Urban Development Emission Model fo...\n",
       "4        Low-Carbon Urban Development Emission Model fo...\n",
       "                               ...                        \n",
       "71152      CO2 Gas Emission Study Using Data-Driven Models\n",
       "71153    Magnetic Metabolism Treatment for Cancer Patients\n",
       "71154    Effects of Increased Carbon and Nitrogen in Fo...\n",
       "71155      CO2 Gas Emission Study Using Data-Driven Models\n",
       "71156      CO2 Gas Emission Study Using Data-Driven Models\n",
       "Name: Assigned_Topic, Length: 71157, dtype: object"
      ]
     },
     "execution_count": 3,
     "metadata": {},
     "output_type": "execute_result"
    }
   ],
   "source": [
    "topic_labels = pd.read_csv('../resources/topicdata.csv', header=None).values.tolist()\n",
    "topic_labels.pop(0)\n",
    "cleaned_topic_labels = [item[0] for item in topic_labels]\n",
    "cleaned_topic_labels\n",
    "\n",
    "# map name of topics to Assigned_Topic\n",
    "\n",
    "data2['Assigned_Topic'] = data2['Assigned_Topic'].map(lambda x: cleaned_topic_labels[x])\n",
    "data2['Assigned_Topic']\n",
    "\n",
    "\n",
    "# data2['Assigned_Topic'] = data2['Assigned_Topic'].map(lambda x: topics.index(x))\n"
   ]
  },
  {
   "cell_type": "code",
   "execution_count": 4,
   "metadata": {},
   "outputs": [
    {
     "data": {
      "text/html": [
       "<div>\n",
       "<style scoped>\n",
       "    .dataframe tbody tr th:only-of-type {\n",
       "        vertical-align: middle;\n",
       "    }\n",
       "\n",
       "    .dataframe tbody tr th {\n",
       "        vertical-align: top;\n",
       "    }\n",
       "\n",
       "    .dataframe thead th {\n",
       "        text-align: right;\n",
       "    }\n",
       "</style>\n",
       "<table border=\"1\" class=\"dataframe\">\n",
       "  <thead>\n",
       "    <tr style=\"text-align: right;\">\n",
       "      <th></th>\n",
       "      <th>title</th>\n",
       "      <th>affiliation</th>\n",
       "      <th>year</th>\n",
       "      <th>abstract</th>\n",
       "      <th>Assigned_Topic</th>\n",
       "    </tr>\n",
       "  </thead>\n",
       "  <tbody>\n",
       "    <tr>\n",
       "      <th>0</th>\n",
       "      <td>The impact of the establishment of carbon emis...</td>\n",
       "      <td>Jinan University</td>\n",
       "      <td>2022</td>\n",
       "      <td>The China government focuses on changes in car...</td>\n",
       "      <td>CO2 Gas Emission Study Using Data-Driven Models</td>\n",
       "    </tr>\n",
       "    <tr>\n",
       "      <th>1</th>\n",
       "      <td>Research on Agricultural Carbon Emissions and ...</td>\n",
       "      <td>Faculty of International Trade, Shanxi Univers...</td>\n",
       "      <td>2020</td>\n",
       "      <td>Carbon emissions and strategies for reducing t...</td>\n",
       "      <td>CO2 Gas Emission Study Using Data-Driven Models</td>\n",
       "    </tr>\n",
       "    <tr>\n",
       "      <th>2</th>\n",
       "      <td>Environmental Kuznets curve of carbon emission...</td>\n",
       "      <td>School of Civil Engineering and Transportation...</td>\n",
       "      <td>2024</td>\n",
       "      <td>Carbon emissions from China’s forest products ...</td>\n",
       "      <td>Electrochemical Carbon Dioxide Emissions Reduc...</td>\n",
       "    </tr>\n",
       "    <tr>\n",
       "      <th>3</th>\n",
       "      <td>China's total carbon emissions and carbon peak...</td>\n",
       "      <td>Suzhou University of Science and Technology</td>\n",
       "      <td>2023</td>\n",
       "      <td>Background To cope with the problem of global ...</td>\n",
       "      <td>Low-Carbon Urban Development Emission Model fo...</td>\n",
       "    </tr>\n",
       "    <tr>\n",
       "      <th>4</th>\n",
       "      <td>Carbon Sinks and Carbon Emissions Discrepancie...</td>\n",
       "      <td>Tsinghua University</td>\n",
       "      <td>2024</td>\n",
       "      <td>Assessing discrepancies between carbon sinks a...</td>\n",
       "      <td>Low-Carbon Urban Development Emission Model fo...</td>\n",
       "    </tr>\n",
       "  </tbody>\n",
       "</table>\n",
       "</div>"
      ],
      "text/plain": [
       "                                               title  \\\n",
       "0  The impact of the establishment of carbon emis...   \n",
       "1  Research on Agricultural Carbon Emissions and ...   \n",
       "2  Environmental Kuznets curve of carbon emission...   \n",
       "3  China's total carbon emissions and carbon peak...   \n",
       "4  Carbon Sinks and Carbon Emissions Discrepancie...   \n",
       "\n",
       "                                         affiliation  year  \\\n",
       "0                                   Jinan University  2022   \n",
       "1  Faculty of International Trade, Shanxi Univers...  2020   \n",
       "2  School of Civil Engineering and Transportation...  2024   \n",
       "3        Suzhou University of Science and Technology  2023   \n",
       "4                                Tsinghua University  2024   \n",
       "\n",
       "                                            abstract  \\\n",
       "0  The China government focuses on changes in car...   \n",
       "1  Carbon emissions and strategies for reducing t...   \n",
       "2  Carbon emissions from China’s forest products ...   \n",
       "3  Background To cope with the problem of global ...   \n",
       "4  Assessing discrepancies between carbon sinks a...   \n",
       "\n",
       "                                      Assigned_Topic  \n",
       "0    CO2 Gas Emission Study Using Data-Driven Models  \n",
       "1    CO2 Gas Emission Study Using Data-Driven Models  \n",
       "2  Electrochemical Carbon Dioxide Emissions Reduc...  \n",
       "3  Low-Carbon Urban Development Emission Model fo...  \n",
       "4  Low-Carbon Urban Development Emission Model fo...  "
      ]
     },
     "execution_count": 4,
     "metadata": {},
     "output_type": "execute_result"
    }
   ],
   "source": [
    "data2.head()"
   ]
  },
  {
   "cell_type": "code",
   "execution_count": 5,
   "metadata": {},
   "outputs": [
    {
     "name": "stdout",
     "output_type": "stream",
     "text": [
      "Data saved to 'final_topicdata.csv'. Fetched 71157 results.\n"
     ]
    }
   ],
   "source": [
    "# Save to CSV\n",
    "# data2['Assigned_Topic']\n",
    "\n",
    "df = pd.DataFrame(data2)\n",
    "\n",
    "# Save to CSV\n",
    "if not df.empty:\n",
    "    df.to_csv('../resources/final_topicdata.csv', index=False, encoding='utf-8')\n",
    "    print(f\"Data saved to 'final_topicdata.csv'. Fetched {len(df)} results.\")\n",
    "else:\n",
    "    print(\"No data fetched. Check the scraping process.\")"
   ]
  },
  {
   "cell_type": "code",
   "execution_count": null,
   "metadata": {},
   "outputs": [],
   "source": []
  }
 ],
 "metadata": {
  "kernelspec": {
   "display_name": "Python 3",
   "language": "python",
   "name": "python3"
  },
  "language_info": {
   "codemirror_mode": {
    "name": "ipython",
    "version": 3
   },
   "file_extension": ".py",
   "mimetype": "text/x-python",
   "name": "python",
   "nbconvert_exporter": "python",
   "pygments_lexer": "ipython3",
   "version": "3.10.7"
  }
 },
 "nbformat": 4,
 "nbformat_minor": 2
}
